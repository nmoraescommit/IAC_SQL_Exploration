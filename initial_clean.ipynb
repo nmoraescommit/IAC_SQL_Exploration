{
 "cells": [
  {
   "cell_type": "code",
   "execution_count": 47,
   "id": "aeaad990-5f65-4c50-9aa4-e28d7ca30894",
   "metadata": {
    "tags": []
   },
   "outputs": [],
   "source": [
    "import pandas as pd\n",
    "import numpy as np"
   ]
  },
  {
   "cell_type": "code",
   "execution_count": 48,
   "id": "5c058185-fe2c-4422-9a48-72dacc7bce5c",
   "metadata": {},
   "outputs": [
    {
     "name": "stderr",
     "output_type": "stream",
     "text": [
      "/var/folders/sb/jp47sbx10wj3cd4mzwy256y80000gn/T/ipykernel_34264/718858416.py:2: DtypeWarning: Columns (2,6,8,9,10,12,13,14,16,17,18,20,21,22,25,26,27,28) have mixed types. Specify dtype option on import or set low_memory=False.\n",
      "  rec = pd.read_csv('/Users/nmoraes/Documents/MEDS/Spring2025/EDS213/discussion/IAC_SQL_Exploration/data/IAC_Recc.csv')\n"
     ]
    }
   ],
   "source": [
    "assess = pd.read_csv('/Users/nmoraes/Documents/MEDS/Spring2025/EDS213/discussion/IAC_SQL_Exploration/data/IAC_Assess.csv')\n",
    "rec = pd.read_csv('/Users/nmoraes/Documents/MEDS/Spring2025/EDS213/discussion/IAC_SQL_Exploration/data/IAC_Recc.csv')\n",
    "naics = pd.read_csv('/Users/nmoraes/Documents/MEDS/Spring2025/EDS213/discussion/IAC_SQL_Exploration/data/NAICS_Codes.csv')\n",
    "crosswalk = pd.read_csv('/Users/nmoraes/Documents/MEDS/Spring2025/EDS213/discussion/IAC_SQL_Exploration/data/NAICS_SIC_Xwalk.csv')"
   ]
  },
  {
   "cell_type": "code",
   "execution_count": 49,
   "id": "1a51139d-5ef6-4ccf-af4e-b940bcaa7396",
   "metadata": {
    "tags": []
   },
   "outputs": [],
   "source": [
    "rec_clean = rec[['SUPERID','ID', 'AR_NUMBER','ARC2', 'IMPSTATUS','IMPCOST',\n",
    "                'PSOURCCODE', 'PCONSERVED', 'PSOURCONSV', 'PSAVED', \n",
    "                'FY' ]]"
   ]
  },
  {
   "cell_type": "code",
   "execution_count": 50,
   "id": "958d9102-6db5-4f3a-93a7-75eb1bda2f92",
   "metadata": {
    "tags": []
   },
   "outputs": [],
   "source": [
    "rec_clean.columns = rec_clean.columns.str.lower()"
   ]
  },
  {
   "cell_type": "code",
   "execution_count": 51,
   "id": "9fa48fd6-0259-4495-8e8e-89eeb2033538",
   "metadata": {
    "tags": []
   },
   "outputs": [],
   "source": [
    "rec_clean = rec_clean.copy()"
   ]
  },
  {
   "cell_type": "code",
   "execution_count": 52,
   "id": "d462db50-3f0f-4387-8086-21265b2f2ee6",
   "metadata": {
    "tags": []
   },
   "outputs": [],
   "source": [
    "# Convert data types for rec_clean\n",
    "rec_clean['ar_number'] = pd.to_numeric(rec_clean['ar_number'], errors='coerce')\n",
    "rec_clean['arc2'] = pd.to_numeric(rec_clean['arc2'], errors='coerce')\n",
    "rec_clean['impcost'] = pd.to_numeric(rec_clean['impcost'], errors='coerce')\n",
    "rec_clean['pconserved'] = pd.to_numeric(rec_clean['pconserved'], errors='coerce')\n",
    "rec_clean['psourconsv'] = pd.to_numeric(rec_clean['psourconsv'], errors='coerce')\n",
    "rec_clean['psaved'] = pd.to_numeric(rec_clean['psaved'], errors='coerce')\n",
    "rec_clean['fy'] = pd.to_numeric(rec_clean['fy'], errors='coerce')"
   ]
  },
  {
   "cell_type": "code",
   "execution_count": 53,
   "id": "394a8591-053a-4ed8-bc3e-94596a1775f2",
   "metadata": {
    "tags": []
   },
   "outputs": [
    {
     "data": {
      "text/html": [
       "<div>\n",
       "<style scoped>\n",
       "    .dataframe tbody tr th:only-of-type {\n",
       "        vertical-align: middle;\n",
       "    }\n",
       "\n",
       "    .dataframe tbody tr th {\n",
       "        vertical-align: top;\n",
       "    }\n",
       "\n",
       "    .dataframe thead th {\n",
       "        text-align: right;\n",
       "    }\n",
       "</style>\n",
       "<table border=\"1\" class=\"dataframe\">\n",
       "  <thead>\n",
       "    <tr style=\"text-align: right;\">\n",
       "      <th></th>\n",
       "      <th>superid</th>\n",
       "      <th>id</th>\n",
       "      <th>ar_number</th>\n",
       "      <th>arc2</th>\n",
       "      <th>impstatus</th>\n",
       "      <th>impcost</th>\n",
       "      <th>psourccode</th>\n",
       "      <th>pconserved</th>\n",
       "      <th>psourconsv</th>\n",
       "      <th>psaved</th>\n",
       "      <th>fy</th>\n",
       "    </tr>\n",
       "  </thead>\n",
       "  <tbody>\n",
       "    <tr>\n",
       "      <th>0</th>\n",
       "      <td>AM000101</td>\n",
       "      <td>AM0001</td>\n",
       "      <td>1.0</td>\n",
       "      <td>3.0</td>\n",
       "      <td>N</td>\n",
       "      <td>15000.0</td>\n",
       "      <td>E1</td>\n",
       "      <td>NaN</td>\n",
       "      <td>NaN</td>\n",
       "      <td>1828.0</td>\n",
       "      <td>1987.0</td>\n",
       "    </tr>\n",
       "    <tr>\n",
       "      <th>1</th>\n",
       "      <td>AM000102</td>\n",
       "      <td>AM0001</td>\n",
       "      <td>2.0</td>\n",
       "      <td>3.0</td>\n",
       "      <td>N</td>\n",
       "      <td>189.0</td>\n",
       "      <td>E1</td>\n",
       "      <td>7034.0</td>\n",
       "      <td>72.0</td>\n",
       "      <td>663.0</td>\n",
       "      <td>1987.0</td>\n",
       "    </tr>\n",
       "    <tr>\n",
       "      <th>2</th>\n",
       "      <td>AM000103</td>\n",
       "      <td>AM0001</td>\n",
       "      <td>3.0</td>\n",
       "      <td>3.0</td>\n",
       "      <td>N</td>\n",
       "      <td>398.0</td>\n",
       "      <td>E1</td>\n",
       "      <td>10258.0</td>\n",
       "      <td>105.0</td>\n",
       "      <td>950.0</td>\n",
       "      <td>1987.0</td>\n",
       "    </tr>\n",
       "    <tr>\n",
       "      <th>3</th>\n",
       "      <td>AM000104</td>\n",
       "      <td>AM0001</td>\n",
       "      <td>4.0</td>\n",
       "      <td>3.0</td>\n",
       "      <td>I</td>\n",
       "      <td>354.0</td>\n",
       "      <td>E1</td>\n",
       "      <td>10844.0</td>\n",
       "      <td>111.0</td>\n",
       "      <td>544.0</td>\n",
       "      <td>1987.0</td>\n",
       "    </tr>\n",
       "    <tr>\n",
       "      <th>4</th>\n",
       "      <td>AM000105</td>\n",
       "      <td>AM0001</td>\n",
       "      <td>5.0</td>\n",
       "      <td>3.0</td>\n",
       "      <td>N</td>\n",
       "      <td>15.0</td>\n",
       "      <td>E1</td>\n",
       "      <td>4982.0</td>\n",
       "      <td>51.0</td>\n",
       "      <td>270.0</td>\n",
       "      <td>1987.0</td>\n",
       "    </tr>\n",
       "  </tbody>\n",
       "</table>\n",
       "</div>"
      ],
      "text/plain": [
       "    superid      id  ar_number  arc2 impstatus  impcost psourccode  \\\n",
       "0  AM000101  AM0001        1.0   3.0         N  15000.0         E1   \n",
       "1  AM000102  AM0001        2.0   3.0         N    189.0         E1   \n",
       "2  AM000103  AM0001        3.0   3.0         N    398.0         E1   \n",
       "3  AM000104  AM0001        4.0   3.0         I    354.0         E1   \n",
       "4  AM000105  AM0001        5.0   3.0         N     15.0         E1   \n",
       "\n",
       "   pconserved  psourconsv  psaved      fy  \n",
       "0         NaN         NaN  1828.0  1987.0  \n",
       "1      7034.0        72.0   663.0  1987.0  \n",
       "2     10258.0       105.0   950.0  1987.0  \n",
       "3     10844.0       111.0   544.0  1987.0  \n",
       "4      4982.0        51.0   270.0  1987.0  "
      ]
     },
     "execution_count": 53,
     "metadata": {},
     "output_type": "execute_result"
    }
   ],
   "source": [
    "rec_clean.head()"
   ]
  },
  {
   "cell_type": "code",
   "execution_count": 54,
   "id": "fcb58da0",
   "metadata": {},
   "outputs": [
    {
     "data": {
      "text/html": [
       "<div>\n",
       "<style scoped>\n",
       "    .dataframe tbody tr th:only-of-type {\n",
       "        vertical-align: middle;\n",
       "    }\n",
       "\n",
       "    .dataframe tbody tr th {\n",
       "        vertical-align: top;\n",
       "    }\n",
       "\n",
       "    .dataframe thead th {\n",
       "        text-align: right;\n",
       "    }\n",
       "</style>\n",
       "<table border=\"1\" class=\"dataframe\">\n",
       "  <thead>\n",
       "    <tr style=\"text-align: right;\">\n",
       "      <th></th>\n",
       "      <th>superid</th>\n",
       "      <th>id</th>\n",
       "      <th>ar_number</th>\n",
       "      <th>arc2</th>\n",
       "      <th>impstatus</th>\n",
       "      <th>impcost</th>\n",
       "      <th>psourccode</th>\n",
       "      <th>pconserved</th>\n",
       "      <th>psourconsv</th>\n",
       "      <th>psaved</th>\n",
       "      <th>fy</th>\n",
       "    </tr>\n",
       "  </thead>\n",
       "  <tbody>\n",
       "    <tr>\n",
       "      <th>164211</th>\n",
       "      <td>W4_plant_usage</td>\n",
       "      <td>Total yearly Other Solid (non-haz) disposal (lbs)</td>\n",
       "      <td>NaN</td>\n",
       "      <td>NaN</td>\n",
       "      <td>NaN</td>\n",
       "      <td>NaN</td>\n",
       "      <td>NaN</td>\n",
       "      <td>NaN</td>\n",
       "      <td>NaN</td>\n",
       "      <td>NaN</td>\n",
       "      <td>NaN</td>\n",
       "    </tr>\n",
       "    <tr>\n",
       "      <th>164212</th>\n",
       "      <td>W5_plant_cost</td>\n",
       "      <td>Total yearly Other Solid (haz) disposal costs ($)</td>\n",
       "      <td>NaN</td>\n",
       "      <td>NaN</td>\n",
       "      <td>NaN</td>\n",
       "      <td>NaN</td>\n",
       "      <td>NaN</td>\n",
       "      <td>NaN</td>\n",
       "      <td>NaN</td>\n",
       "      <td>NaN</td>\n",
       "      <td>NaN</td>\n",
       "    </tr>\n",
       "    <tr>\n",
       "      <th>164213</th>\n",
       "      <td>W5_plant_usage</td>\n",
       "      <td>Total yearly Other Solid (haz) disposal (lbs)</td>\n",
       "      <td>NaN</td>\n",
       "      <td>NaN</td>\n",
       "      <td>NaN</td>\n",
       "      <td>NaN</td>\n",
       "      <td>NaN</td>\n",
       "      <td>NaN</td>\n",
       "      <td>NaN</td>\n",
       "      <td>NaN</td>\n",
       "      <td>NaN</td>\n",
       "    </tr>\n",
       "    <tr>\n",
       "      <th>164214</th>\n",
       "      <td>W6_plant_cost</td>\n",
       "      <td>Total yearly Gaseous Waste disposal costs ($)</td>\n",
       "      <td>NaN</td>\n",
       "      <td>NaN</td>\n",
       "      <td>NaN</td>\n",
       "      <td>NaN</td>\n",
       "      <td>NaN</td>\n",
       "      <td>NaN</td>\n",
       "      <td>NaN</td>\n",
       "      <td>NaN</td>\n",
       "      <td>NaN</td>\n",
       "    </tr>\n",
       "    <tr>\n",
       "      <th>164215</th>\n",
       "      <td>W6_plant_usage</td>\n",
       "      <td>Total yearly Gaseous Waste disposal (lbs)</td>\n",
       "      <td>NaN</td>\n",
       "      <td>NaN</td>\n",
       "      <td>NaN</td>\n",
       "      <td>NaN</td>\n",
       "      <td>NaN</td>\n",
       "      <td>NaN</td>\n",
       "      <td>NaN</td>\n",
       "      <td>NaN</td>\n",
       "      <td>NaN</td>\n",
       "    </tr>\n",
       "  </tbody>\n",
       "</table>\n",
       "</div>"
      ],
      "text/plain": [
       "               superid                                                 id  \\\n",
       "164211  W4_plant_usage  Total yearly Other Solid (non-haz) disposal (lbs)   \n",
       "164212   W5_plant_cost  Total yearly Other Solid (haz) disposal costs ($)   \n",
       "164213  W5_plant_usage      Total yearly Other Solid (haz) disposal (lbs)   \n",
       "164214   W6_plant_cost      Total yearly Gaseous Waste disposal costs ($)   \n",
       "164215  W6_plant_usage          Total yearly Gaseous Waste disposal (lbs)   \n",
       "\n",
       "        ar_number  arc2 impstatus  impcost psourccode  pconserved  psourconsv  \\\n",
       "164211        NaN   NaN       NaN      NaN        NaN         NaN         NaN   \n",
       "164212        NaN   NaN       NaN      NaN        NaN         NaN         NaN   \n",
       "164213        NaN   NaN       NaN      NaN        NaN         NaN         NaN   \n",
       "164214        NaN   NaN       NaN      NaN        NaN         NaN         NaN   \n",
       "164215        NaN   NaN       NaN      NaN        NaN         NaN         NaN   \n",
       "\n",
       "        psaved  fy  \n",
       "164211     NaN NaN  \n",
       "164212     NaN NaN  \n",
       "164213     NaN NaN  \n",
       "164214     NaN NaN  \n",
       "164215     NaN NaN  "
      ]
     },
     "execution_count": 54,
     "metadata": {},
     "output_type": "execute_result"
    }
   ],
   "source": [
    "rec_clean.tail()"
   ]
  },
  {
   "cell_type": "code",
   "execution_count": 55,
   "id": "fd77f250",
   "metadata": {},
   "outputs": [],
   "source": [
    "rec_clean = rec_clean.iloc[1:164161]"
   ]
  },
  {
   "cell_type": "code",
   "execution_count": 56,
   "id": "a748aba9-5a34-4b71-af3a-31c40206021b",
   "metadata": {
    "tags": []
   },
   "outputs": [
    {
     "data": {
      "text/html": [
       "<div>\n",
       "<style scoped>\n",
       "    .dataframe tbody tr th:only-of-type {\n",
       "        vertical-align: middle;\n",
       "    }\n",
       "\n",
       "    .dataframe tbody tr th {\n",
       "        vertical-align: top;\n",
       "    }\n",
       "\n",
       "    .dataframe thead th {\n",
       "        text-align: right;\n",
       "    }\n",
       "</style>\n",
       "<table border=\"1\" class=\"dataframe\">\n",
       "  <thead>\n",
       "    <tr style=\"text-align: right;\">\n",
       "      <th></th>\n",
       "      <th>ID</th>\n",
       "      <th>CENTER</th>\n",
       "      <th>FY</th>\n",
       "      <th>SIC</th>\n",
       "      <th>NAICS</th>\n",
       "      <th>STATE</th>\n",
       "      <th>PRODUCTS</th>\n",
       "      <th>EC_plant_cost</th>\n",
       "      <th>EC_plant_usage</th>\n",
       "    </tr>\n",
       "  </thead>\n",
       "  <tbody>\n",
       "    <tr>\n",
       "      <th>0</th>\n",
       "      <td>AM0001</td>\n",
       "      <td>AM</td>\n",
       "      <td>1987</td>\n",
       "      <td>3671.0</td>\n",
       "      <td>NaN</td>\n",
       "      <td>TX</td>\n",
       "      <td>MICRO &amp; MINI COMPUTERS</td>\n",
       "      <td>184985.0</td>\n",
       "      <td>2560082.0</td>\n",
       "    </tr>\n",
       "    <tr>\n",
       "      <th>1</th>\n",
       "      <td>AM0002</td>\n",
       "      <td>AM</td>\n",
       "      <td>1987</td>\n",
       "      <td>2761.0</td>\n",
       "      <td>NaN</td>\n",
       "      <td>TX</td>\n",
       "      <td>BUSINESS FORMS</td>\n",
       "      <td>267702.0</td>\n",
       "      <td>4867233.0</td>\n",
       "    </tr>\n",
       "    <tr>\n",
       "      <th>2</th>\n",
       "      <td>AM0003</td>\n",
       "      <td>AM</td>\n",
       "      <td>1987</td>\n",
       "      <td>3494.0</td>\n",
       "      <td>NaN</td>\n",
       "      <td>TX</td>\n",
       "      <td>SAFETY JOINTS &amp; VALVES</td>\n",
       "      <td>129334.0</td>\n",
       "      <td>1723036.0</td>\n",
       "    </tr>\n",
       "    <tr>\n",
       "      <th>3</th>\n",
       "      <td>AM0004</td>\n",
       "      <td>AM</td>\n",
       "      <td>1987</td>\n",
       "      <td>3713.0</td>\n",
       "      <td>NaN</td>\n",
       "      <td>TX</td>\n",
       "      <td>TRUCKS BEDS &amp; TRAILERS</td>\n",
       "      <td>53511.0</td>\n",
       "      <td>483880.0</td>\n",
       "    </tr>\n",
       "    <tr>\n",
       "      <th>4</th>\n",
       "      <td>AM0005</td>\n",
       "      <td>AM</td>\n",
       "      <td>1987</td>\n",
       "      <td>2024.0</td>\n",
       "      <td>NaN</td>\n",
       "      <td>TX</td>\n",
       "      <td>ICE CREAM</td>\n",
       "      <td>174617.0</td>\n",
       "      <td>2868113.0</td>\n",
       "    </tr>\n",
       "  </tbody>\n",
       "</table>\n",
       "</div>"
      ],
      "text/plain": [
       "       ID CENTER    FY     SIC  NAICS STATE                PRODUCTS  \\\n",
       "0  AM0001     AM  1987  3671.0    NaN    TX  MICRO & MINI COMPUTERS   \n",
       "1  AM0002     AM  1987  2761.0    NaN    TX          BUSINESS FORMS   \n",
       "2  AM0003     AM  1987  3494.0    NaN    TX  SAFETY JOINTS & VALVES   \n",
       "3  AM0004     AM  1987  3713.0    NaN    TX  TRUCKS BEDS & TRAILERS   \n",
       "4  AM0005     AM  1987  2024.0    NaN    TX               ICE CREAM   \n",
       "\n",
       "   EC_plant_cost  EC_plant_usage  \n",
       "0       184985.0       2560082.0  \n",
       "1       267702.0       4867233.0  \n",
       "2       129334.0       1723036.0  \n",
       "3        53511.0        483880.0  \n",
       "4       174617.0       2868113.0  "
      ]
     },
     "execution_count": 56,
     "metadata": {},
     "output_type": "execute_result"
    }
   ],
   "source": [
    "assess.head()"
   ]
  },
  {
   "cell_type": "code",
   "execution_count": 57,
   "id": "00933cca-a517-431d-9d51-23ce24da0857",
   "metadata": {
    "tags": []
   },
   "outputs": [],
   "source": [
    "assess_clean = assess.copy()"
   ]
  },
  {
   "cell_type": "code",
   "execution_count": 58,
   "id": "94f92eed-31ee-44f3-89eb-7be35947a860",
   "metadata": {
    "tags": []
   },
   "outputs": [],
   "source": [
    "assess_clean.columns = assess_clean.columns.str.lower()"
   ]
  },
  {
   "cell_type": "code",
   "execution_count": 59,
   "id": "8d95afcd-a16e-4770-9975-bc92ba2ae105",
   "metadata": {
    "tags": []
   },
   "outputs": [],
   "source": [
    "assess_clean = assess_clean.copy()"
   ]
  },
  {
   "cell_type": "code",
   "execution_count": 60,
   "id": "7bbb1210-c27b-4385-a8a3-44b721e91d98",
   "metadata": {
    "tags": []
   },
   "outputs": [],
   "source": [
    "# Convert data types for assess_clean\n",
    "assess_clean['fy'] = pd.to_numeric(assess_clean['fy'], errors='coerce')\n",
    "assess_clean['sic'] = pd.to_numeric(assess_clean['sic'], errors='coerce')\n",
    "assess_clean['ec_plant_cost'] = pd.to_numeric(assess_clean['ec_plant_cost'], errors='coerce')\n",
    "assess_clean['ec_plant_usage'] = pd.to_numeric(assess_clean['ec_plant_usage'], errors='coerce')"
   ]
  },
  {
   "cell_type": "code",
   "execution_count": 61,
   "id": "3e6dad44-61c8-4cb1-86f2-795232b15a6e",
   "metadata": {
    "tags": []
   },
   "outputs": [
    {
     "data": {
      "text/html": [
       "<div>\n",
       "<style scoped>\n",
       "    .dataframe tbody tr th:only-of-type {\n",
       "        vertical-align: middle;\n",
       "    }\n",
       "\n",
       "    .dataframe tbody tr th {\n",
       "        vertical-align: top;\n",
       "    }\n",
       "\n",
       "    .dataframe thead th {\n",
       "        text-align: right;\n",
       "    }\n",
       "</style>\n",
       "<table border=\"1\" class=\"dataframe\">\n",
       "  <thead>\n",
       "    <tr style=\"text-align: right;\">\n",
       "      <th></th>\n",
       "      <th>id</th>\n",
       "      <th>center</th>\n",
       "      <th>fy</th>\n",
       "      <th>sic</th>\n",
       "      <th>naics</th>\n",
       "      <th>state</th>\n",
       "      <th>products</th>\n",
       "      <th>ec_plant_cost</th>\n",
       "      <th>ec_plant_usage</th>\n",
       "    </tr>\n",
       "  </thead>\n",
       "  <tbody>\n",
       "    <tr>\n",
       "      <th>0</th>\n",
       "      <td>AM0001</td>\n",
       "      <td>AM</td>\n",
       "      <td>1987</td>\n",
       "      <td>3671.0</td>\n",
       "      <td>NaN</td>\n",
       "      <td>TX</td>\n",
       "      <td>MICRO &amp; MINI COMPUTERS</td>\n",
       "      <td>184985.0</td>\n",
       "      <td>2560082.0</td>\n",
       "    </tr>\n",
       "    <tr>\n",
       "      <th>1</th>\n",
       "      <td>AM0002</td>\n",
       "      <td>AM</td>\n",
       "      <td>1987</td>\n",
       "      <td>2761.0</td>\n",
       "      <td>NaN</td>\n",
       "      <td>TX</td>\n",
       "      <td>BUSINESS FORMS</td>\n",
       "      <td>267702.0</td>\n",
       "      <td>4867233.0</td>\n",
       "    </tr>\n",
       "    <tr>\n",
       "      <th>2</th>\n",
       "      <td>AM0003</td>\n",
       "      <td>AM</td>\n",
       "      <td>1987</td>\n",
       "      <td>3494.0</td>\n",
       "      <td>NaN</td>\n",
       "      <td>TX</td>\n",
       "      <td>SAFETY JOINTS &amp; VALVES</td>\n",
       "      <td>129334.0</td>\n",
       "      <td>1723036.0</td>\n",
       "    </tr>\n",
       "    <tr>\n",
       "      <th>3</th>\n",
       "      <td>AM0004</td>\n",
       "      <td>AM</td>\n",
       "      <td>1987</td>\n",
       "      <td>3713.0</td>\n",
       "      <td>NaN</td>\n",
       "      <td>TX</td>\n",
       "      <td>TRUCKS BEDS &amp; TRAILERS</td>\n",
       "      <td>53511.0</td>\n",
       "      <td>483880.0</td>\n",
       "    </tr>\n",
       "    <tr>\n",
       "      <th>4</th>\n",
       "      <td>AM0005</td>\n",
       "      <td>AM</td>\n",
       "      <td>1987</td>\n",
       "      <td>2024.0</td>\n",
       "      <td>NaN</td>\n",
       "      <td>TX</td>\n",
       "      <td>ICE CREAM</td>\n",
       "      <td>174617.0</td>\n",
       "      <td>2868113.0</td>\n",
       "    </tr>\n",
       "  </tbody>\n",
       "</table>\n",
       "</div>"
      ],
      "text/plain": [
       "       id center    fy     sic  naics state                products  \\\n",
       "0  AM0001     AM  1987  3671.0    NaN    TX  MICRO & MINI COMPUTERS   \n",
       "1  AM0002     AM  1987  2761.0    NaN    TX          BUSINESS FORMS   \n",
       "2  AM0003     AM  1987  3494.0    NaN    TX  SAFETY JOINTS & VALVES   \n",
       "3  AM0004     AM  1987  3713.0    NaN    TX  TRUCKS BEDS & TRAILERS   \n",
       "4  AM0005     AM  1987  2024.0    NaN    TX               ICE CREAM   \n",
       "\n",
       "   ec_plant_cost  ec_plant_usage  \n",
       "0       184985.0       2560082.0  \n",
       "1       267702.0       4867233.0  \n",
       "2       129334.0       1723036.0  \n",
       "3        53511.0        483880.0  \n",
       "4       174617.0       2868113.0  "
      ]
     },
     "execution_count": 61,
     "metadata": {},
     "output_type": "execute_result"
    }
   ],
   "source": [
    "assess_clean.head()"
   ]
  },
  {
   "cell_type": "code",
   "execution_count": 62,
   "id": "36754c96-16d7-49f9-be90-deeb56ebe1c5",
   "metadata": {
    "tags": []
   },
   "outputs": [
    {
     "data": {
      "text/html": [
       "<div>\n",
       "<style scoped>\n",
       "    .dataframe tbody tr th:only-of-type {\n",
       "        vertical-align: middle;\n",
       "    }\n",
       "\n",
       "    .dataframe tbody tr th {\n",
       "        vertical-align: top;\n",
       "    }\n",
       "\n",
       "    .dataframe thead th {\n",
       "        text-align: right;\n",
       "    }\n",
       "</style>\n",
       "<table border=\"1\" class=\"dataframe\">\n",
       "  <thead>\n",
       "    <tr style=\"text-align: right;\">\n",
       "      <th></th>\n",
       "      <th>Seq. No.</th>\n",
       "      <th>2022 NAICS US   Code</th>\n",
       "      <th>2022 NAICS US Title</th>\n",
       "      <th>Description</th>\n",
       "      <th>Unnamed: 4</th>\n",
       "    </tr>\n",
       "  </thead>\n",
       "  <tbody>\n",
       "    <tr>\n",
       "      <th>0</th>\n",
       "      <td>1</td>\n",
       "      <td>11</td>\n",
       "      <td>Agriculture, Forestry, Fishing and HuntingT</td>\n",
       "      <td>The Sector as a Whole\\n\\nThe Agriculture, Fore...</td>\n",
       "      <td>NaN</td>\n",
       "    </tr>\n",
       "    <tr>\n",
       "      <th>1</th>\n",
       "      <td>2</td>\n",
       "      <td>111</td>\n",
       "      <td>Crop ProductionT</td>\n",
       "      <td>Industries in the Crop Production subsector gr...</td>\n",
       "      <td>NaN</td>\n",
       "    </tr>\n",
       "    <tr>\n",
       "      <th>2</th>\n",
       "      <td>3</td>\n",
       "      <td>1111</td>\n",
       "      <td>Oilseed and Grain FarmingT</td>\n",
       "      <td>This industry group comprises establishments p...</td>\n",
       "      <td>NaN</td>\n",
       "    </tr>\n",
       "    <tr>\n",
       "      <th>3</th>\n",
       "      <td>4</td>\n",
       "      <td>11111</td>\n",
       "      <td>Soybean FarmingT</td>\n",
       "      <td>See industry description for 111110.</td>\n",
       "      <td>NaN</td>\n",
       "    </tr>\n",
       "    <tr>\n",
       "      <th>4</th>\n",
       "      <td>5</td>\n",
       "      <td>111110</td>\n",
       "      <td>Soybean Farming</td>\n",
       "      <td>This industry comprises establishments primari...</td>\n",
       "      <td>NaN</td>\n",
       "    </tr>\n",
       "  </tbody>\n",
       "</table>\n",
       "</div>"
      ],
      "text/plain": [
       "  Seq. No. 2022 NAICS US   Code                          2022 NAICS US Title  \\\n",
       "0        1                   11  Agriculture, Forestry, Fishing and HuntingT   \n",
       "1        2                  111                             Crop ProductionT   \n",
       "2        3                 1111                   Oilseed and Grain FarmingT   \n",
       "3        4                11111                             Soybean FarmingT   \n",
       "4        5               111110                              Soybean Farming   \n",
       "\n",
       "                                         Description  Unnamed: 4  \n",
       "0  The Sector as a Whole\\n\\nThe Agriculture, Fore...         NaN  \n",
       "1  Industries in the Crop Production subsector gr...         NaN  \n",
       "2  This industry group comprises establishments p...         NaN  \n",
       "3               See industry description for 111110.         NaN  \n",
       "4  This industry comprises establishments primari...         NaN  "
      ]
     },
     "execution_count": 62,
     "metadata": {},
     "output_type": "execute_result"
    }
   ],
   "source": [
    "naics.head()"
   ]
  },
  {
   "cell_type": "code",
   "execution_count": 63,
   "id": "7eeff525-d78c-48f8-95b0-77a20e9266ae",
   "metadata": {
    "tags": []
   },
   "outputs": [
    {
     "data": {
      "text/plain": [
       "Index(['Seq. No.', '2022 NAICS US   Code', '2022 NAICS US Title',\n",
       "       'Description', 'Unnamed: 4'],\n",
       "      dtype='object')"
      ]
     },
     "execution_count": 63,
     "metadata": {},
     "output_type": "execute_result"
    }
   ],
   "source": [
    "naics.columns"
   ]
  },
  {
   "cell_type": "code",
   "execution_count": 64,
   "id": "a06044fc-7d8a-4b85-b28f-6b0a36979598",
   "metadata": {
    "tags": []
   },
   "outputs": [],
   "source": [
    "naics_clean = naics[['2022 NAICS US   Code', '2022 NAICS US Title',\n",
    "       'Description']]"
   ]
  },
  {
   "cell_type": "code",
   "execution_count": 65,
   "id": "85b51161-6d1c-4482-b037-ae3d5159a830",
   "metadata": {
    "tags": []
   },
   "outputs": [],
   "source": [
    "naics_clean = naics_clean.rename(columns = {'2022 NAICS US   Code': 'naics', '2022 NAICS US Title':'naics_title', 'Description' : 'naics_description'})"
   ]
  },
  {
   "cell_type": "code",
   "execution_count": 66,
   "id": "196859f5-a16c-4e62-8bb0-b999439882db",
   "metadata": {
    "tags": []
   },
   "outputs": [
    {
     "data": {
      "text/html": [
       "<div>\n",
       "<style scoped>\n",
       "    .dataframe tbody tr th:only-of-type {\n",
       "        vertical-align: middle;\n",
       "    }\n",
       "\n",
       "    .dataframe tbody tr th {\n",
       "        vertical-align: top;\n",
       "    }\n",
       "\n",
       "    .dataframe thead th {\n",
       "        text-align: right;\n",
       "    }\n",
       "</style>\n",
       "<table border=\"1\" class=\"dataframe\">\n",
       "  <thead>\n",
       "    <tr style=\"text-align: right;\">\n",
       "      <th></th>\n",
       "      <th>naics</th>\n",
       "      <th>naics_title</th>\n",
       "      <th>naics_description</th>\n",
       "    </tr>\n",
       "  </thead>\n",
       "  <tbody>\n",
       "    <tr>\n",
       "      <th>0</th>\n",
       "      <td>11</td>\n",
       "      <td>Agriculture, Forestry, Fishing and HuntingT</td>\n",
       "      <td>The Sector as a Whole\\n\\nThe Agriculture, Fore...</td>\n",
       "    </tr>\n",
       "    <tr>\n",
       "      <th>1</th>\n",
       "      <td>111</td>\n",
       "      <td>Crop ProductionT</td>\n",
       "      <td>Industries in the Crop Production subsector gr...</td>\n",
       "    </tr>\n",
       "    <tr>\n",
       "      <th>2</th>\n",
       "      <td>1111</td>\n",
       "      <td>Oilseed and Grain FarmingT</td>\n",
       "      <td>This industry group comprises establishments p...</td>\n",
       "    </tr>\n",
       "    <tr>\n",
       "      <th>3</th>\n",
       "      <td>11111</td>\n",
       "      <td>Soybean FarmingT</td>\n",
       "      <td>See industry description for 111110.</td>\n",
       "    </tr>\n",
       "    <tr>\n",
       "      <th>4</th>\n",
       "      <td>111110</td>\n",
       "      <td>Soybean Farming</td>\n",
       "      <td>This industry comprises establishments primari...</td>\n",
       "    </tr>\n",
       "  </tbody>\n",
       "</table>\n",
       "</div>"
      ],
      "text/plain": [
       "    naics                                  naics_title  \\\n",
       "0      11  Agriculture, Forestry, Fishing and HuntingT   \n",
       "1     111                             Crop ProductionT   \n",
       "2    1111                   Oilseed and Grain FarmingT   \n",
       "3   11111                             Soybean FarmingT   \n",
       "4  111110                              Soybean Farming   \n",
       "\n",
       "                                   naics_description  \n",
       "0  The Sector as a Whole\\n\\nThe Agriculture, Fore...  \n",
       "1  Industries in the Crop Production subsector gr...  \n",
       "2  This industry group comprises establishments p...  \n",
       "3               See industry description for 111110.  \n",
       "4  This industry comprises establishments primari...  "
      ]
     },
     "execution_count": 66,
     "metadata": {},
     "output_type": "execute_result"
    }
   ],
   "source": [
    "naics_clean.head()"
   ]
  },
  {
   "cell_type": "code",
   "execution_count": 67,
   "id": "a0b1f2d7-0864-41c5-bf94-aa514ab685ab",
   "metadata": {
    "tags": []
   },
   "outputs": [
    {
     "data": {
      "text/html": [
       "<div>\n",
       "<style scoped>\n",
       "    .dataframe tbody tr th:only-of-type {\n",
       "        vertical-align: middle;\n",
       "    }\n",
       "\n",
       "    .dataframe tbody tr th {\n",
       "        vertical-align: top;\n",
       "    }\n",
       "\n",
       "    .dataframe thead th {\n",
       "        text-align: right;\n",
       "    }\n",
       "</style>\n",
       "<table border=\"1\" class=\"dataframe\">\n",
       "  <thead>\n",
       "    <tr style=\"text-align: right;\">\n",
       "      <th></th>\n",
       "      <th>Input Seq 1</th>\n",
       "      <th>2022 NAICS Code</th>\n",
       "      <th>2022 NAICS Title</th>\n",
       "      <th>Related SIC Code</th>\n",
       "      <th>Related SIC Code Description</th>\n",
       "      <th>Change to 2017 Code</th>\n",
       "      <th>2017 NAICS Code</th>\n",
       "      <th>2017 NAICS Code.1</th>\n",
       "    </tr>\n",
       "  </thead>\n",
       "  <tbody>\n",
       "    <tr>\n",
       "      <th>0</th>\n",
       "      <td>1</td>\n",
       "      <td>111110</td>\n",
       "      <td>Soybean Farming</td>\n",
       "      <td>0116</td>\n",
       "      <td>Soybeans</td>\n",
       "      <td>No Change</td>\n",
       "      <td>111110</td>\n",
       "      <td>Soybean Farming</td>\n",
       "    </tr>\n",
       "    <tr>\n",
       "      <th>1</th>\n",
       "      <td>2</td>\n",
       "      <td>111120</td>\n",
       "      <td>Oilseed (except Soybean) Farming</td>\n",
       "      <td>0119</td>\n",
       "      <td>Cash Grains, Nec</td>\n",
       "      <td>No Change</td>\n",
       "      <td>111120</td>\n",
       "      <td>Oilseed (except Soybean) Farming</td>\n",
       "    </tr>\n",
       "    <tr>\n",
       "      <th>2</th>\n",
       "      <td>3</td>\n",
       "      <td>111130</td>\n",
       "      <td>Dry Pea and Bean Farming</td>\n",
       "      <td>0119</td>\n",
       "      <td>Cash Grains, Nec</td>\n",
       "      <td>No Change</td>\n",
       "      <td>111130</td>\n",
       "      <td>Dry Pea and Bean Farming</td>\n",
       "    </tr>\n",
       "    <tr>\n",
       "      <th>3</th>\n",
       "      <td>4</td>\n",
       "      <td>111140</td>\n",
       "      <td>Wheat Farming</td>\n",
       "      <td>0111</td>\n",
       "      <td>Wheat</td>\n",
       "      <td>No Change</td>\n",
       "      <td>111140</td>\n",
       "      <td>Wheat Farming</td>\n",
       "    </tr>\n",
       "    <tr>\n",
       "      <th>4</th>\n",
       "      <td>5</td>\n",
       "      <td>111150</td>\n",
       "      <td>Corn Farming</td>\n",
       "      <td>0115</td>\n",
       "      <td>Corn</td>\n",
       "      <td>No Change</td>\n",
       "      <td>111150</td>\n",
       "      <td>Corn Farming</td>\n",
       "    </tr>\n",
       "  </tbody>\n",
       "</table>\n",
       "</div>"
      ],
      "text/plain": [
       "   Input Seq 1  2022 NAICS Code                   2022 NAICS Title  \\\n",
       "0            1           111110                    Soybean Farming   \n",
       "1            2           111120  Oilseed (except Soybean) Farming    \n",
       "2            3           111130          Dry Pea and Bean Farming    \n",
       "3            4           111140                      Wheat Farming   \n",
       "4            5           111150                      Corn Farming    \n",
       "\n",
       "  Related SIC Code Related SIC Code Description Change to 2017 Code  \\\n",
       "0             0116                     Soybeans           No Change   \n",
       "1             0119             Cash Grains, Nec           No Change   \n",
       "2             0119             Cash Grains, Nec           No Change   \n",
       "3             0111                        Wheat           No Change   \n",
       "4             0115                         Corn           No Change   \n",
       "\n",
       "  2017 NAICS Code                  2017 NAICS Code.1  \n",
       "0          111110                    Soybean Farming  \n",
       "1          111120  Oilseed (except Soybean) Farming   \n",
       "2          111130          Dry Pea and Bean Farming   \n",
       "3          111140                      Wheat Farming  \n",
       "4          111150                      Corn Farming   "
      ]
     },
     "execution_count": 67,
     "metadata": {},
     "output_type": "execute_result"
    }
   ],
   "source": [
    "crosswalk.head()"
   ]
  },
  {
   "cell_type": "code",
   "execution_count": 68,
   "id": "34297849-57a1-4a36-a58c-efbbc45e9dfe",
   "metadata": {
    "tags": []
   },
   "outputs": [
    {
     "data": {
      "text/plain": [
       "Index(['Input Seq 1', '2022 NAICS Code', '2022 NAICS Title',\n",
       "       'Related SIC Code', 'Related SIC Code Description',\n",
       "       'Change to 2017 Code', '2017 NAICS Code', '2017 NAICS Code.1'],\n",
       "      dtype='object')"
      ]
     },
     "execution_count": 68,
     "metadata": {},
     "output_type": "execute_result"
    }
   ],
   "source": [
    "crosswalk.columns"
   ]
  },
  {
   "cell_type": "code",
   "execution_count": 69,
   "id": "f25b89fe-25b2-404f-b75a-8349b437013f",
   "metadata": {},
   "outputs": [],
   "source": [
    "crosswalk_clean = crosswalk[['2022 NAICS Code', '2022 NAICS Title',\n",
    "       'Related SIC Code', 'Related SIC Code Description']]"
   ]
  },
  {
   "cell_type": "code",
   "execution_count": 70,
   "id": "d834e006-0a2d-4593-8944-412cb1609d60",
   "metadata": {
    "tags": []
   },
   "outputs": [],
   "source": [
    "crosswalk_clean = crosswalk_clean.rename(columns = {'2022 NAICS Code':'naics', '2022 NAICS Title':'naics_title','Related SIC Code':'sic', 'Related SIC Code Description': 'sic_description'  })"
   ]
  },
  {
   "cell_type": "code",
   "execution_count": 71,
   "id": "ebd5bac0-fbec-46e2-a1c6-cb7599684ba7",
   "metadata": {},
   "outputs": [
    {
     "data": {
      "text/html": [
       "<div>\n",
       "<style scoped>\n",
       "    .dataframe tbody tr th:only-of-type {\n",
       "        vertical-align: middle;\n",
       "    }\n",
       "\n",
       "    .dataframe tbody tr th {\n",
       "        vertical-align: top;\n",
       "    }\n",
       "\n",
       "    .dataframe thead th {\n",
       "        text-align: right;\n",
       "    }\n",
       "</style>\n",
       "<table border=\"1\" class=\"dataframe\">\n",
       "  <thead>\n",
       "    <tr style=\"text-align: right;\">\n",
       "      <th></th>\n",
       "      <th>naics</th>\n",
       "      <th>naics_title</th>\n",
       "      <th>sic</th>\n",
       "      <th>sic_description</th>\n",
       "    </tr>\n",
       "  </thead>\n",
       "  <tbody>\n",
       "    <tr>\n",
       "      <th>0</th>\n",
       "      <td>111110</td>\n",
       "      <td>Soybean Farming</td>\n",
       "      <td>0116</td>\n",
       "      <td>Soybeans</td>\n",
       "    </tr>\n",
       "    <tr>\n",
       "      <th>1</th>\n",
       "      <td>111120</td>\n",
       "      <td>Oilseed (except Soybean) Farming</td>\n",
       "      <td>0119</td>\n",
       "      <td>Cash Grains, Nec</td>\n",
       "    </tr>\n",
       "    <tr>\n",
       "      <th>2</th>\n",
       "      <td>111130</td>\n",
       "      <td>Dry Pea and Bean Farming</td>\n",
       "      <td>0119</td>\n",
       "      <td>Cash Grains, Nec</td>\n",
       "    </tr>\n",
       "    <tr>\n",
       "      <th>3</th>\n",
       "      <td>111140</td>\n",
       "      <td>Wheat Farming</td>\n",
       "      <td>0111</td>\n",
       "      <td>Wheat</td>\n",
       "    </tr>\n",
       "    <tr>\n",
       "      <th>4</th>\n",
       "      <td>111150</td>\n",
       "      <td>Corn Farming</td>\n",
       "      <td>0115</td>\n",
       "      <td>Corn</td>\n",
       "    </tr>\n",
       "  </tbody>\n",
       "</table>\n",
       "</div>"
      ],
      "text/plain": [
       "    naics                        naics_title   sic   sic_description\n",
       "0  111110                    Soybean Farming  0116          Soybeans\n",
       "1  111120  Oilseed (except Soybean) Farming   0119  Cash Grains, Nec\n",
       "2  111130          Dry Pea and Bean Farming   0119  Cash Grains, Nec\n",
       "3  111140                      Wheat Farming  0111             Wheat\n",
       "4  111150                      Corn Farming   0115              Corn"
      ]
     },
     "execution_count": 71,
     "metadata": {},
     "output_type": "execute_result"
    }
   ],
   "source": [
    "crosswalk_clean.head()"
   ]
  },
  {
   "cell_type": "code",
   "execution_count": 72,
   "id": "71ab0a7c-af3e-487e-a418-c37a5b9bb185",
   "metadata": {
    "tags": []
   },
   "outputs": [],
   "source": [
    "rec_clean.to_csv('/Users/nmoraes/Documents/MEDS/Spring2025/EDS213/discussion/IAC_SQL_Exploration/data/rec.csv', index = False)"
   ]
  },
  {
   "cell_type": "code",
   "execution_count": 73,
   "id": "0d050140-978a-4d7d-9f2d-57e7260f7858",
   "metadata": {
    "tags": []
   },
   "outputs": [],
   "source": [
    "assess_clean.to_csv('/Users/nmoraes/Documents/MEDS/Spring2025/EDS213/discussion/IAC_SQL_Exploration/data/assess.csv', index = False)"
   ]
  },
  {
   "cell_type": "code",
   "execution_count": 74,
   "id": "5541d38a-0e4c-4840-b3b3-17c1979238a0",
   "metadata": {},
   "outputs": [],
   "source": [
    "naics_clean.to_csv('/Users/nmoraes/Documents/MEDS/Spring2025/EDS213/discussion/IAC_SQL_Exploration/data/naics.csv', index = False)"
   ]
  },
  {
   "cell_type": "code",
   "execution_count": 75,
   "id": "f17cd6d4-167c-4ec1-974e-3132e4aec268",
   "metadata": {},
   "outputs": [],
   "source": [
    "crosswalk_clean.to_csv('/Users/nmoraes/Documents/MEDS/Spring2025/EDS213/discussion/IAC_SQL_Exploration/data/crosswalk.csv', index = False)"
   ]
  }
 ],
 "metadata": {
  "kernelspec": {
   "display_name": "industrialenergy",
   "language": "python",
   "name": "python3"
  },
  "language_info": {
   "codemirror_mode": {
    "name": "ipython",
    "version": 3
   },
   "file_extension": ".py",
   "mimetype": "text/x-python",
   "name": "python",
   "nbconvert_exporter": "python",
   "pygments_lexer": "ipython3",
   "version": "3.11.11"
  }
 },
 "nbformat": 4,
 "nbformat_minor": 5
}
